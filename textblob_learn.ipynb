{
  "nbformat": 4,
  "nbformat_minor": 0,
  "metadata": {
    "colab": {
      "name": "Untitled2.ipynb",
      "version": "0.3.2",
      "provenance": [],
      "include_colab_link": true
    },
    "kernelspec": {
      "name": "python3",
      "display_name": "Python 3"
    }
  },
  "cells": [
    {
      "cell_type": "markdown",
      "metadata": {
        "id": "view-in-github",
        "colab_type": "text"
      },
      "source": [
        "<a href=\"https://colab.research.google.com/github/shushanxingzhe/python_learning/blob/master/textblob_learn.ipynb\" target=\"_parent\"><img src=\"https://colab.research.google.com/assets/colab-badge.svg\" alt=\"Open In Colab\"/></a>"
      ]
    },
    {
      "cell_type": "code",
      "metadata": {
        "id": "KfK4BUbdhQ0H",
        "colab_type": "code",
        "colab": {
          "base_uri": "https://localhost:8080/",
          "height": 269
        },
        "outputId": "db099a0a-df8b-4e86-9e0b-8bbb5b62dbcb"
      },
      "source": [
        "from textblob import TextBlob\n",
        "\n",
        "text = '''\n",
        "The warning comes as China and the US have been locked in an intensifying trade war, with Beijing placing the blame for the deteriorating relationship on Washington over the weekend.\n",
        "The brutal massacre of hundreds, if not thousands, of protesting citizens, workers and students shocked the world.\n",
        "Chinese media reported that their wedding ceremony took place at a hotel in France and a banquet was held at the Palace of Versailles yesterday.\n",
        "This was amazing,and I very like it.\n",
        "Amazing watch, very simple, very classic, very nice.\n",
        "It is not a phone to play games that require a lot of processor or to have many applications open at the same time.\n",
        "Do not buy it  not working, and compensated me just 30 dollar I am very angry  \n",
        "'''\n",
        "\n",
        "blob = TextBlob(text)\n",
        "blob.tags           # [('The', 'DT'), ('titular', 'JJ'),\n",
        "                    #  ('threat', 'NN'), ('of', 'IN'), ...]\n",
        "\n",
        "blob.noun_phrases   # WordList(['titular threat', 'blob',\n",
        "                    #            'ultimate movie monster',\n",
        "                    #            'amoeba-like mass', ...])\n",
        "\n",
        "for sentence in blob.sentences:\n",
        "    print(sentence.sentiment.polarity)\n",
        "# 0.060\n",
        "# -0.341\n",
        "\n",
        "blob.translate(to=\"zh-CN\")"
      ],
      "execution_count": 8,
      "outputs": [
        {
          "output_type": "stream",
          "text": [
            "0.0\n",
            "-0.7875\n",
            "0.0\n",
            "0.2\n",
            "0.39916666666666667\n",
            "0.16666666666666666\n",
            "-0.65\n"
          ],
          "name": "stdout"
        },
        {
          "output_type": "execute_result",
          "data": {
            "text/plain": [
              "TextBlob(\"这一警告发生之际，中国和美国一直处于激烈的贸易战中，北京方面指责周末华盛顿关系恶化。\n",
              "数百甚至数千名抗议公民，工人和学生的残酷屠杀震惊了全世界。\n",
              "中国媒体报道，他们的婚礼在法国一家酒店举行，昨天在凡尔赛宫举行了宴会。\n",
              "这太棒了，我非常喜欢。\n",
              "神奇的手表，非常简单，非常经典，非常好看。\n",
              "玩手机不是需要大量处理器或同时打开许多应用程序的游戏。\n",
              "不要买它不工作，并补偿我只有30美元我很生气\")"
            ]
          },
          "metadata": {
            "tags": []
          },
          "execution_count": 8
        }
      ]
    },
    {
      "cell_type": "code",
      "metadata": {
        "id": "J6JG_ipChpB_",
        "colab_type": "code",
        "colab": {
          "base_uri": "https://localhost:8080/",
          "height": 53
        },
        "outputId": "be42da28-d3df-4e8b-cd1f-76ab2b924ce2"
      },
      "source": [
        "\n",
        "paragraph = '''\n",
        "垃圾。真是垃圾鞋子。才穿几个星期。就破了。有什么用。\n",
        "'''\n",
        "\n",
        "review = TextBlob(paragraph)\n",
        "\n",
        "if(review.detect_language() != 'en'):\n",
        "    review = review.translate(to=\"en\")\n",
        "\n",
        "print(review)\n",
        "\n",
        "print(review.sentiment.polarity)"
      ],
      "execution_count": 14,
      "outputs": [
        {
          "output_type": "stream",
          "text": [
            "Rubbish. It’s really rubbish shoes. Only wear for a few weeks. It is broken. What is the use.\n",
            "-0.1\n"
          ],
          "name": "stdout"
        }
      ]
    },
    {
      "cell_type": "code",
      "metadata": {
        "id": "Bolz8dt5sv9Q",
        "colab_type": "code",
        "colab": {}
      },
      "source": [
        ""
      ],
      "execution_count": 0,
      "outputs": []
    }
  ]
}